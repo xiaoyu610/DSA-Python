{
 "cells": [
  {
   "cell_type": "code",
   "execution_count": 15,
   "id": "ab77750f",
   "metadata": {},
   "outputs": [],
   "source": [
    "# Insertion-sort\n",
    "def insertion_sort(A):\n",
    "    for j in range(1, len(A)):\n",
    "        key = A[j]\n",
    "        i = j-1 \n",
    "        while i >= 0 and A[i] > key:   # move elements that are greater than key one position up\n",
    "            A[i+1] = A[i]\n",
    "            i = i-1      \n",
    "        A[i+1] = key # insert the key in the correct position \n",
    "    return A\n",
    "    "
   ]
  },
  {
   "cell_type": "code",
   "execution_count": 16,
   "id": "44d86a2d",
   "metadata": {},
   "outputs": [
    {
     "data": {
      "text/plain": [
       "[2, 4, 5, 6]"
      ]
     },
     "execution_count": 16,
     "metadata": {},
     "output_type": "execute_result"
    }
   ],
   "source": [
    "A = [5, 4, 2, 6]\n",
    "sorted_A = insertion_sort(A)\n",
    "sorted_A"
   ]
  },
  {
   "cell_type": "code",
   "execution_count": null,
   "id": "da58902c",
   "metadata": {},
   "outputs": [],
   "source": []
  }
 ],
 "metadata": {
  "kernelspec": {
   "display_name": "Python 3 (ipykernel)",
   "language": "python",
   "name": "python3"
  },
  "language_info": {
   "codemirror_mode": {
    "name": "ipython",
    "version": 3
   },
   "file_extension": ".py",
   "mimetype": "text/x-python",
   "name": "python",
   "nbconvert_exporter": "python",
   "pygments_lexer": "ipython3",
   "version": "3.10.9"
  }
 },
 "nbformat": 4,
 "nbformat_minor": 5
}

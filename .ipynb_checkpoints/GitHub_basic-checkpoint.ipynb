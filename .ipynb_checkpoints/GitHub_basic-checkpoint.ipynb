{
 "cells": [
  {
   "cell_type": "code",
   "execution_count": 5,
   "id": "444d0c06",
   "metadata": {},
   "outputs": [
    {
     "name": "stdout",
     "output_type": "stream",
     "text": [
      "git version 2.31.1.windows.1\n"
     ]
    }
   ],
   "source": [
    "!git --version # !(shell commend prefix)"
   ]
  },
  {
   "cell_type": "code",
   "execution_count": 14,
   "id": "0905bb20",
   "metadata": {},
   "outputs": [
    {
     "name": "stdout",
     "output_type": "stream",
     "text": [
      "On branch Main\n",
      "Your branch is up to date with 'origin/Main'.\n",
      "\n",
      "Changes not staged for commit:\n",
      "  (use \"git add <file>...\" to update what will be committed)\n",
      "  (use \"git restore <file>...\" to discard changes in working directory)\n",
      "\tmodified:   .ipynb_checkpoints/github_push-checkpoint.ipynb\n",
      "\tmodified:   github_push.ipynb\n",
      "\n",
      "Untracked files:\n",
      "  (use \"git add <file>...\" to include in what will be committed)\n",
      "\t.ipynb_checkpoints/GitHub_basic-checkpoint.ipynb\n",
      "\tGitHub_basic.ipynb\n",
      "\n",
      "no changes added to commit (use \"git add\" and/or \"git commit -a\")\n"
     ]
    }
   ],
   "source": [
    "# configure name and email >> can only check in the terminal?\n",
    "# !git config --list --show-origin  # Shows all configurations with their origins\n",
    "# git config --list --global       # Shows global configurations\n",
    "# git config --list --local      # Shows configurations for the current repository\n",
    "# git config --global user.name \"Your Name\"\n",
    "# git config --global user.email \"your-email@example.com\"\n",
    "!git status"
   ]
  },
  {
   "cell_type": "code",
   "execution_count": 15,
   "id": "be94c362",
   "metadata": {},
   "outputs": [
    {
     "name": "stderr",
     "output_type": "stream",
     "text": [
      "usage: git init [-q | --quiet] [--bare] [--template=<template-directory>] [--shared[=<permissions>]] [<directory>]\n"
     ]
    }
   ],
   "source": [
    "# connect local project to github\n",
    "import os # os module, provides function for interaction with the operating system\n",
    "os.chdir('C:/Users/xiaoyu/Desktop/AIML/DSA-Python-practice') \n",
    "\n",
    "!git init # initialize a git repository (inside your project folder)"
   ]
  },
  {
   "cell_type": "code",
   "execution_count": 16,
   "id": "78bf7c84",
   "metadata": {},
   "outputs": [
    {
     "name": "stderr",
     "output_type": "stream",
     "text": [
      "warning: LF will be replaced by CRLF in github_push.ipynb.\n",
      "The file will have its original line endings in your working directory\n"
     ]
    }
   ],
   "source": [
    "# add a file to track \n",
    "!git add github_push.ipynb"
   ]
  },
  {
   "cell_type": "code",
   "execution_count": 17,
   "id": "bc7ceace",
   "metadata": {},
   "outputs": [
    {
     "name": "stdout",
     "output_type": "stream",
     "text": [
      "[Main d88b6f6] test commit\n",
      " 1 file changed, 53 insertions(+), 260 deletions(-)\n",
      " rewrite github_push.ipynb (85%)\n"
     ]
    }
   ],
   "source": [
    "# commit the changes (save a snapthot of your work)\n",
    "!git commit -m \"test commit\""
   ]
  },
  {
   "cell_type": "code",
   "execution_count": 21,
   "id": "d743c1a2",
   "metadata": {},
   "outputs": [
    {
     "name": "stdout",
     "output_type": "stream",
     "text": [
      "origin\thttps://github.com/xiaoyu610/DSA-and-Python-practice.git (fetch)\n",
      "origin\thttps://github.com/xiaoyu610/DSA-and-Python-practice.git (push)\n"
     ]
    }
   ],
   "source": [
    "# link local repo to github\n",
    "# !git remote add origin https://github.com/xiaoyu610/DSA-and-Python-practice.git\n",
    "\n",
    "# if your Git repo already has a remote named origin set >>> check the existing remote\n",
    "!git remote -v \n",
    "# (fetch: download changes from remote to the local repo)\n",
    "# (push: upload local changes to remote repo)\n",
    "\n",
    "# update the remote URL\n",
    "# !git remote set-url origin https://github.com/your-username/your-repo.git\n",
    "\n",
    "# remove the remote\n",
    "# !git remote remove origin"
   ]
  },
  {
   "cell_type": "code",
   "execution_count": 20,
   "id": "a6dbdae5",
   "metadata": {},
   "outputs": [
    {
     "name": "stderr",
     "output_type": "stream",
     "text": [
      "fatal: main cannot be resolved to branch\n"
     ]
    }
   ],
   "source": [
    "# push code to github\n",
    "!git push -u origin main"
   ]
  },
  {
   "cell_type": "code",
   "execution_count": null,
   "id": "01138cd6",
   "metadata": {},
   "outputs": [],
   "source": [
    "# clone an existing repository\n",
    "# if you want to work on an existing project from github\n",
    "!git clone https://github.com/xiaoyu610/DSA-and-Python-practice.git"
   ]
  },
  {
   "cell_type": "code",
   "execution_count": null,
   "id": "45b03c4d",
   "metadata": {},
   "outputs": [],
   "source": [
    "# pull updates from github (get the latest changes from the remote repository)\n",
    "!git pull origin main"
   ]
  },
  {
   "cell_type": "code",
   "execution_count": null,
   "id": "5a282344",
   "metadata": {},
   "outputs": [],
   "source": [
    "# creat a new branch \n",
    "!git checkout -b new-feature"
   ]
  }
 ],
 "metadata": {
  "kernelspec": {
   "display_name": "Python 3 (ipykernel)",
   "language": "python",
   "name": "python3"
  },
  "language_info": {
   "codemirror_mode": {
    "name": "ipython",
    "version": 3
   },
   "file_extension": ".py",
   "mimetype": "text/x-python",
   "name": "python",
   "nbconvert_exporter": "python",
   "pygments_lexer": "ipython3",
   "version": "3.10.9"
  }
 },
 "nbformat": 4,
 "nbformat_minor": 5
}

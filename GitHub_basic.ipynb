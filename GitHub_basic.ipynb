{
 "cells": [
  {
   "cell_type": "code",
   "execution_count": 5,
   "id": "7c688cc6",
   "metadata": {},
   "outputs": [
    {
     "name": "stdout",
     "output_type": "stream",
     "text": [
      "git version 2.31.1.windows.1\n"
     ]
    }
   ],
   "source": [
    "!git --version # !(shell commend prefix)"
   ]
  },
  {
   "cell_type": "code",
   "execution_count": 41,
   "id": "ad9fd162",
   "metadata": {},
   "outputs": [
    {
     "name": "stdout",
     "output_type": "stream",
     "text": [
      "On branch main\n",
      "Your branch is up to date with 'origin/main'.\n",
      "\n",
      "Changes to be committed:\n",
      "  (use \"git restore --staged <file>...\" to unstage)\n",
      "\tmodified:   .ipynb_checkpoints/GitHub_basic-checkpoint.ipynb\n",
      "\tmodified:   GitHub_basic.ipynb\n",
      "\n",
      "Changes not staged for commit:\n",
      "  (use \"git add <file>...\" to update what will be committed)\n",
      "  (use \"git restore <file>...\" to discard changes in working directory)\n",
      "\tmodified:   GitHub_basic.ipynb\n",
      "\n"
     ]
    }
   ],
   "source": [
    "# configure name and email >> can only check in the terminal?\n",
    "# !git config --list --show-origin  # Shows all configurations with their origins\n",
    "# git config --list --global       # Shows global configurations\n",
    "# git config --list --local      # Shows configurations for the current repository\n",
    "# git config --global user.name \"Your Name\"\n",
    "# git config --global user.email \"your-email@example.com\"\n",
    "!git status"
   ]
  },
  {
   "cell_type": "code",
   "execution_count": 42,
   "id": "4a4210c0",
   "metadata": {},
   "outputs": [
    {
     "name": "stdout",
     "output_type": "stream",
     "text": [
      "origin\thttps://github.com/xiaoyu610/DSA-and-Python-practice.git (fetch)\n",
      "origin\thttps://github.com/xiaoyu610/DSA-and-Python-practice.git (push)\n"
     ]
    }
   ],
   "source": [
    "# connect local project to github\n",
    "# import os # os module, provides function for interaction with the operating system\n",
    "# os.chdir('C:/Users/xiaoyu/Desktop/AIML/DSA-Python-practice') \n",
    "\n",
    "# !git init # initialize a git repository (inside your project folder) >>> no need once linked before"
   ]
  },
  {
   "cell_type": "code",
   "execution_count": 21,
   "id": "38389a6c",
   "metadata": {},
   "outputs": [
    {
     "name": "stdout",
     "output_type": "stream",
     "text": [
      "origin\thttps://github.com/xiaoyu610/DSA-and-Python-practice.git (fetch)\n",
      "origin\thttps://github.com/xiaoyu610/DSA-and-Python-practice.git (push)\n"
     ]
    }
   ],
   "source": [
    "# link local repo to github\n",
    "# !git remote add origin https://github.com/xiaoyu610/DSA-and-Python-practice.git\n",
    "\n",
    "# if your Git repo already has a remote named origin set >>> check the existing remote\n",
    "!git remote -v \n",
    "# (fetch: download changes from remote to the local repo)\n",
    "# (push: upload local changes to remote repo)\n",
    "\n",
    "# update the remote URL\n",
    "# !git remote set-url origin https://github.com/your-username/your-repo.git\n",
    "\n",
    "# remove the remote\n",
    "# !git remote remove origin"
   ]
  },
  {
   "cell_type": "code",
   "execution_count": null,
   "id": "4240647c",
   "metadata": {},
   "outputs": [],
   "source": [
    "# add a file to track \n",
    "!git add .\n",
    "\n",
    "# commit the changes (save a snapthot of your work)\n",
    "!git commit -m \"new commit\""
   ]
  },
  {
   "cell_type": "code",
   "execution_count": 36,
   "id": "09156db5",
   "metadata": {},
   "outputs": [
    {
     "name": "stdout",
     "output_type": "stream",
     "text": [
      "Branch 'main' set up to track remote branch 'main' from 'origin'.\n"
     ]
    },
    {
     "name": "stderr",
     "output_type": "stream",
     "text": [
      "remote: \n",
      "remote: Create a pull request for 'main' on GitHub by visiting:        \n",
      "remote:      https://github.com/xiaoyu610/DSA-and-Python-practice/pull/new/main        \n",
      "remote: \n",
      "To https://github.com/xiaoyu610/DSA-and-Python-practice.git\n",
      " * [new branch]      main -> main\n"
     ]
    }
   ],
   "source": [
    "# push code to github\n",
    "!git push -u origin main"
   ]
  },
  {
   "cell_type": "code",
   "execution_count": 37,
   "id": "e8ca94a4",
   "metadata": {},
   "outputs": [
    {
     "name": "stdout",
     "output_type": "stream",
     "text": [
      "* main\n",
      "  remotes/origin/main\n"
     ]
    }
   ],
   "source": [
    "!git branch -a # check which branches exist locally"
   ]
  },
  {
   "cell_type": "code",
   "execution_count": null,
   "id": "545e7626",
   "metadata": {},
   "outputs": [],
   "source": [
    "# clone an existing repository\n",
    "# if you want to work on an existing project from github\n",
    "\n",
    "# !git clone https://github.com/xiaoyu610/DSA-and-Python-practice.git"
   ]
  },
  {
   "cell_type": "code",
   "execution_count": null,
   "id": "1d103370",
   "metadata": {},
   "outputs": [],
   "source": [
    "# pull updates from github (get the latest changes from the remote repository)\n",
    "\n",
    "# !git pull origin main"
   ]
  },
  {
   "cell_type": "code",
   "execution_count": null,
   "id": "625b9a2c",
   "metadata": {},
   "outputs": [],
   "source": [
    "# creat a new branch \n",
    "# !git checkout -b new-feature"
   ]
  }
 ],
 "metadata": {
  "kernelspec": {
   "display_name": "Python 3 (ipykernel)",
   "language": "python",
   "name": "python3"
  },
  "language_info": {
   "codemirror_mode": {
    "name": "ipython",
    "version": 3
   },
   "file_extension": ".py",
   "mimetype": "text/x-python",
   "name": "python",
   "nbconvert_exporter": "python",
   "pygments_lexer": "ipython3",
   "version": "3.10.9"
  }
 },
 "nbformat": 4,
 "nbformat_minor": 5
}

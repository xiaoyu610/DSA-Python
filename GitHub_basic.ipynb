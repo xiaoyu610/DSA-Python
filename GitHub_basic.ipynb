{
 "cells": [
  {
   "cell_type": "code",
   "execution_count": 62,
   "id": "7c688cc6",
   "metadata": {},
   "outputs": [
    {
     "name": "stdout",
     "output_type": "stream",
     "text": [
      "git version 2.31.1.windows.1\n"
     ]
    }
   ],
   "source": [
    "!git --version # !(shell commend prefix)"
   ]
  },
  {
   "cell_type": "code",
   "execution_count": 63,
   "id": "ad9fd162",
   "metadata": {},
   "outputs": [
    {
     "name": "stdout",
     "output_type": "stream",
     "text": [
      "On branch main\n",
      "Your branch and 'origin/main' have diverged,\n",
      "and have 2 and 5 different commits each, respectively.\n",
      "  (use \"git pull\" to merge the remote branch into yours)\n",
      "\n",
      "Changes not staged for commit:\n",
      "  (use \"git add <file>...\" to update what will be committed)\n",
      "  (use \"git restore <file>...\" to discard changes in working directory)\n",
      "\tmodified:   .ipynb_checkpoints/GitHub_workingflow-checkpoint.ipynb\n",
      "\tmodified:   GitHub_workingflow.ipynb\n",
      "\n",
      "no changes added to commit (use \"git add\" and/or \"git commit -a\")\n"
     ]
    }
   ],
   "source": [
    "# configure name and email >> can only check in the terminal?\n",
    "# !git config --list --show-origin  # Shows all configurations with their origins\n",
    "# git config --list --global       # Shows global configurations\n",
    "# git config --list --local      # Shows configurations for the current repository\n",
    "# git config --global user.name \"Your Name\"\n",
    "# git config --global user.email \"your-email@example.com\"\n",
    "!git status"
   ]
  },
  {
   "cell_type": "code",
   "execution_count": 42,
   "id": "4a4210c0",
   "metadata": {},
   "outputs": [
    {
     "name": "stdout",
     "output_type": "stream",
     "text": [
      "origin\thttps://github.com/xiaoyu610/DSA-and-Python-practice.git (fetch)\n",
      "origin\thttps://github.com/xiaoyu610/DSA-and-Python-practice.git (push)\n"
     ]
    }
   ],
   "source": [
    "# connect local project to github\n",
    "# import os # os module, provides function for interaction with the operating system\n",
    "# os.chdir('C:/Users/xiaoyu/Desktop/AIML/DSA-Python-practice') \n",
    "\n",
    "# !git init # initialize a git repository (inside your project folder) >>> no need once linked before"
   ]
  },
  {
   "cell_type": "code",
   "execution_count": 45,
   "id": "38389a6c",
   "metadata": {},
   "outputs": [
    {
     "name": "stdout",
     "output_type": "stream",
     "text": [
      "origin\thttps://github.com/xiaoyu610/DSA-and-Python-practice.git (fetch)\n",
      "origin\thttps://github.com/xiaoyu610/DSA-and-Python-practice.git (push)\n"
     ]
    }
   ],
   "source": [
    "# link local repo to github\n",
    "# !git remote add origin https://github.com/xiaoyu610/DSA-and-Python-practice.git\n",
    "\n",
    "# if your Git repo already has a remote named origin set >>> check the existing remote\n",
    "!git remote -v \n",
    "# (fetch: download changes from remote to the local repo)\n",
    "# (push: upload local changes to remote repo)\n",
    "\n",
    "# update the remote URL\n",
    "# !git remote set-url origin https://github.com/your-username/your-repo.git\n",
    "\n",
    "# remove the remote\n",
    "# !git remote remove origin"
   ]
  },
  {
   "cell_type": "code",
   "execution_count": 46,
   "id": "e8ca94a4",
   "metadata": {},
   "outputs": [
    {
     "name": "stderr",
     "output_type": "stream",
     "text": [
      "usage: git branch [<options>] [-r | -a] [--merged] [--no-merged]\n",
      "   or: git branch [<options>] [-l] [-f] <branch-name> [<start-point>]\n",
      "   or: git branch [<options>] [-r] (-d | -D) <branch-name>...\n",
      "   or: git branch [<options>] (-m | -M) [<old-branch>] <new-branch>\n",
      "   or: git branch [<options>] (-c | -C) [<old-branch>] <new-branch>\n",
      "   or: git branch [<options>] [-r | -a] [--points-at]\n",
      "   or: git branch [<options>] [-r | -a] [--format]\n",
      "\n",
      "Generic options\n",
      "    -v, --verbose         show hash and subject, give twice for upstream branch\n",
      "    -q, --quiet           suppress informational messages\n",
      "    -t, --track           set up tracking mode (see git-pull(1))\n",
      "    -u, --set-upstream-to <upstream>\n",
      "                          change the upstream info\n",
      "    --unset-upstream      unset the upstream info\n",
      "    --color[=<when>]      use colored output\n",
      "    -r, --remotes         act on remote-tracking branches\n",
      "    --contains <commit>   print only branches that contain the commit\n",
      "    --no-contains <commit>\n",
      "                          print only branches that don't contain the commit\n",
      "    --abbrev[=<n>]        use <n> digits to display object names\n",
      "\n",
      "Specific git-branch actions:\n",
      "    -a, --all             list both remote-tracking and local branches\n",
      "    -d, --delete          delete fully merged branch\n",
      "    -D                    delete branch (even if not merged)\n",
      "    -m, --move            move/rename a branch and its reflog\n",
      "    -M                    move/rename a branch, even if target exists\n",
      "    -c, --copy            copy a branch and its reflog\n",
      "    -C                    copy a branch, even if target exists\n",
      "    -l, --list            list branch names\n",
      "    --show-current        show current branch name\n",
      "    --create-reflog       create the branch's reflog\n",
      "    --edit-description    edit the description for the branch\n",
      "    -f, --force           force creation, move/rename, deletion\n",
      "    --merged <commit>     print only branches that are merged\n",
      "    --no-merged <commit>  print only branches that are not merged\n",
      "    --column[=<style>]    list branches in columns\n",
      "    --sort <key>          field name to sort on\n",
      "    --points-at <object>  print only branches of the object\n",
      "    -i, --ignore-case     sorting and filtering are case insensitive\n",
      "    --format <format>     format to use for the output\n",
      "\n"
     ]
    }
   ],
   "source": [
    "!git branch -a # check which branches exist locally"
   ]
  },
  {
   "cell_type": "code",
   "execution_count": 64,
   "id": "81b26675",
   "metadata": {},
   "outputs": [
    {
     "name": "stderr",
     "output_type": "stream",
     "text": [
      "warning: LF will be replaced by CRLF in .ipynb_checkpoints/GitHub_workingflow-checkpoint.ipynb.\n",
      "The file will have its original line endings in your working directory\n",
      "warning: LF will be replaced by CRLF in GitHub_workingflow.ipynb.\n",
      "The file will have its original line endings in your working directory\n"
     ]
    },
    {
     "name": "stdout",
     "output_type": "stream",
     "text": [
      "[main 6952eaf] new commit\n",
      " 2 files changed, 64 insertions(+), 58 deletions(-)\n"
     ]
    },
    {
     "name": "stderr",
     "output_type": "stream",
     "text": [
      "To https://github.com/xiaoyu610/DSA-and-Python-practice.git\n",
      " ! [rejected]        main -> main (non-fast-forward)\n",
      "error: failed to push some refs to 'https://github.com/xiaoyu610/DSA-and-Python-practice.git'\n",
      "hint: Updates were rejected because the tip of your current branch is behind\n",
      "hint: its remote counterpart. Integrate the remote changes (e.g.\n",
      "hint: 'git pull ...') before pushing again.\n",
      "hint: See the 'Note about fast-forwards' in 'git push --help' for details.\n"
     ]
    }
   ],
   "source": [
    "# add all files/a file to track \n",
    "!git add .\n",
    "\n",
    "# commit the changes (save a snapthot of your work)\n",
    "!git commit -m \"new commit\"\n",
    "\n",
    "# push code to github\n",
    "!git push -u origin main"
   ]
  },
  {
   "cell_type": "code",
   "execution_count": null,
   "id": "00786817",
   "metadata": {},
   "outputs": [],
   "source": [
    "# fetch and merge changes\n",
    "!git pull origin main --rebase"
   ]
  },
  {
   "cell_type": "code",
   "execution_count": null,
   "id": "545e7626",
   "metadata": {},
   "outputs": [],
   "source": [
    "# clone an existing repository\n",
    "# if you want to work on an existing project from github\n",
    "\n",
    "# !git clone https://github.com/xiaoyu610/DSA-and-Python-practice.git"
   ]
  },
  {
   "cell_type": "code",
   "execution_count": null,
   "id": "1d103370",
   "metadata": {},
   "outputs": [],
   "source": [
    "# pull updates from github (get the latest changes from the remote repository)\n",
    "\n",
    "# !git pull origin main"
   ]
  },
  {
   "cell_type": "code",
   "execution_count": null,
   "id": "625b9a2c",
   "metadata": {},
   "outputs": [],
   "source": [
    "# creat a new branch \n",
    "# !git checkout -b new-feature"
   ]
  },
  {
   "cell_type": "code",
   "execution_count": 49,
   "id": "f5c963ff",
   "metadata": {},
   "outputs": [
    {
     "name": "stdout",
     "output_type": "stream",
     "text": [
      "[main 6eaba21] Ignore Jupyter checkpoints\n",
      " 1 file changed, 1 insertion(+)\n",
      " create mode 100644 .gitignore\n"
     ]
    },
    {
     "name": "stderr",
     "output_type": "stream",
     "text": [
      "To https://github.com/xiaoyu610/DSA-and-Python-practice.git\n",
      "   818aa86..6eaba21  main -> main\n"
     ]
    }
   ],
   "source": [
    "## ignore the automatic folders created by Jupyter Notebook\n",
    "!echo \".ipynb_checkpoints/\" >> .gitignore\n",
    "!git add .gitignore\n",
    "!git commit -m \"Ignore Jupyter checkpoints\"\n",
    "!git push origin main"
   ]
  }
 ],
 "metadata": {
  "kernelspec": {
   "display_name": "Python 3 (ipykernel)",
   "language": "python",
   "name": "python3"
  },
  "language_info": {
   "codemirror_mode": {
    "name": "ipython",
    "version": 3
   },
   "file_extension": ".py",
   "mimetype": "text/x-python",
   "name": "python",
   "nbconvert_exporter": "python",
   "pygments_lexer": "ipython3",
   "version": "3.10.9"
  }
 },
 "nbformat": 4,
 "nbformat_minor": 5
}

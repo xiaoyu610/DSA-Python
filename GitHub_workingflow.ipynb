{
 "cells": [
  {
   "cell_type": "code",
   "execution_count": 3,
   "id": "5b3af463",
   "metadata": {},
   "outputs": [
    {
     "name": "stderr",
     "output_type": "stream",
     "text": [
      "fatal: A branch named 'feature-branch' already exists.\n"
     ]
    }
   ],
   "source": [
    "## 1.Feature branch workflow for collaboration (best for working on new features without affecting the mian code)\n",
    "\n",
    "# create a new branch for the feature >>> eventually for merge with the main branch\n",
    "!git checkout -b feature-branch"
   ]
  },
  {
   "cell_type": "code",
   "execution_count": 4,
   "id": "96fb3faf",
   "metadata": {},
   "outputs": [
    {
     "name": "stderr",
     "output_type": "stream",
     "text": [
      "warning: LF will be replaced by CRLF in GitHub_workingflow.ipynb.\n",
      "The file will have its original line endings in your working directory\n"
     ]
    },
    {
     "name": "stdout",
     "output_type": "stream",
     "text": [
      "[feature-branch 9a6cedb] Added new feature\n",
      " 1 file changed, 57 insertions(+), 5 deletions(-)\n"
     ]
    },
    {
     "name": "stderr",
     "output_type": "stream",
     "text": [
      "remote: \n",
      "remote: Create a pull request for 'feature-branch' on GitHub by visiting:        \n",
      "remote:      https://github.com/xiaoyu610/DSA-and-Python-practice/pull/new/feature-branch        \n",
      "remote: \n",
      "To https://github.com/xiaoyu610/DSA-and-Python-practice.git\n",
      " * [new branch]      feature-branch -> feature-branch\n"
     ]
    }
   ],
   "source": [
    "!git add .\n",
    "!git commit -m \"Added new feature\"\n",
    "!git push origin feature-branch"
   ]
  },
  {
   "cell_type": "code",
   "execution_count": 5,
   "id": "9c607e02",
   "metadata": {},
   "outputs": [
    {
     "name": "stdout",
     "output_type": "stream",
     "text": [
      "rm '.ipynb_checkpoints/GitHub_basic-checkpoint.ipynb'\n",
      "rm '.ipynb_checkpoints/GitHub_workingflow-checkpoint.ipynb'\n",
      "rm '.ipynb_checkpoints/Numpy-checkpoint.ipynb'\n",
      "rm '.ipynb_checkpoints/github_push-checkpoint.ipynb'\n",
      "[feature-branch 8ab92ab] removed .ipynb_checkpoints from repo\n",
      " 4 files changed, 516 deletions(-)\n",
      " delete mode 100644 .ipynb_checkpoints/GitHub_basic-checkpoint.ipynb\n",
      " delete mode 100644 .ipynb_checkpoints/GitHub_workingflow-checkpoint.ipynb\n",
      " delete mode 100644 .ipynb_checkpoints/Numpy-checkpoint.ipynb\n",
      " delete mode 100644 .ipynb_checkpoints/github_push-checkpoint.ipynb\n"
     ]
    },
    {
     "name": "stderr",
     "output_type": "stream",
     "text": [
      "fatal: 'feature-branch' does not appear to be a git repository\n",
      "fatal: Could not read from remote repository.\n",
      "\n",
      "Please make sure you have the correct access rights\n",
      "and the repository exists.\n"
     ]
    },
    {
     "name": "stdout",
     "output_type": "stream",
     "text": [
      "[feature-branch 757e685] Ignore Jupyter checkpoints\n",
      " 1 file changed, 1 insertion(+)\n"
     ]
    },
    {
     "name": "stderr",
     "output_type": "stream",
     "text": [
      "To https://github.com/xiaoyu610/DSA-and-Python-practice.git\n",
      "   9a6cedb..757e685  feature-branch -> feature-branch\n"
     ]
    }
   ],
   "source": [
    "# remove the folder form git tracking (but keep it locally)\n",
    "!git rm -r --cached .ipynb_checkpoints\n",
    "!git commit -m \"removed .ipynb_checkpoints from repo\"\n",
    "!git push feature-branch\n",
    "## ignore the automatic folders created by Jupyter Notebook\n",
    "!echo \".ipynb_checkpoints/\" >> .gitignore\n",
    "!git add .gitignore\n",
    "!git commit -m \"Ignore Jupyter checkpoints\"\n",
    "!git push origin feature-branch"
   ]
  },
  {
   "cell_type": "code",
   "execution_count": 8,
   "id": "96d6958e",
   "metadata": {},
   "outputs": [
    {
     "name": "stdout",
     "output_type": "stream",
     "text": [
      "On branch feature-branch\n",
      "Changes not staged for commit:\n",
      "  (use \"git add <file>...\" to update what will be committed)\n",
      "  (use \"git restore <file>...\" to discard changes in working directory)\n",
      "\tmodified:   GitHub_workingflow.ipynb\n",
      "\n",
      "Untracked files:\n",
      "  (use \"git add <file>...\" to include in what will be committed)\n",
      "\t.ipynb_checkpoints/\n",
      "\n",
      "no changes added to commit (use \"git add\" and/or \"git commit -a\")\n"
     ]
    }
   ],
   "source": [
    "!git status"
   ]
  },
  {
   "cell_type": "code",
   "execution_count": 16,
   "id": "81e2125f",
   "metadata": {},
   "outputs": [
    {
     "name": "stdout",
     "output_type": "stream",
     "text": [
      "On branch feature-branch\n",
      "Untracked files:\n",
      "  (use \"git add <file>...\" to include in what will be committed)\n",
      "\t.ipynb_checkpoints/\n",
      "\n",
      "nothing added to commit but untracked files present (use \"git add\" to track)\n",
      "Your branch is up to date with 'origin/main'.\n"
     ]
    },
    {
     "name": "stderr",
     "output_type": "stream",
     "text": [
      "Switched to branch 'main'\n"
     ]
    }
   ],
   "source": [
    "!git add GitHub_workingflow.ipynb\n",
    "!git commit -m \"Saved changes to GitHub_workingflow.ipynb\"\n",
    "!git checkout main "
   ]
  },
  {
   "cell_type": "code",
   "execution_count": 19,
   "id": "ccd58407",
   "metadata": {},
   "outputs": [
    {
     "name": "stdout",
     "output_type": "stream",
     "text": [
      "Deleted branch feature-branch (was cde0b40).\n"
     ]
    }
   ],
   "source": [
    "!git branch -D feature-branch"
   ]
  },
  {
   "cell_type": "code",
   "execution_count": 20,
   "id": "d1ee8f3b",
   "metadata": {},
   "outputs": [
    {
     "name": "stderr",
     "output_type": "stream",
     "text": [
      "From https://github.com/xiaoyu610/DSA-and-Python-practice\n",
      " - [deleted]         (none)     -> origin/feature-branch\n",
      "   465e253..29618d5  main       -> origin/main\n"
     ]
    }
   ],
   "source": [
    "!git fetch --prune"
   ]
  },
  {
   "cell_type": "code",
   "execution_count": 21,
   "id": "2fc56cae",
   "metadata": {},
   "outputs": [
    {
     "name": "stdout",
     "output_type": "stream",
     "text": [
      "* main\n",
      "  remotes/origin/main\n"
     ]
    }
   ],
   "source": [
    "!git branch -a"
   ]
  },
  {
   "cell_type": "code",
   "execution_count": null,
   "id": "96367b34",
   "metadata": {},
   "outputs": [],
   "source": [
    "## 2. Git Flow, more structured for teams (best for large teamsand complex projects with multiple releases)\n",
    "# main --> stable production branch\n",
    "# develop --> ongoing development branch\n",
    "# feature/* --> new features\n",
    "# release/* --> preparing for a new release\n",
    "# hotfix/* --> emergency bug fixes\n",
    "\n",
    "# start a new feature\n",
    "# !git checkout -b feature/new-feature develop\n",
    "# !git add .\n",
    "# !git commit -m \"Implemented new feature\"\n",
    "# !git push origin feature/new-feature\n",
    "\n",
    "# create a pull request and merge into develop\n",
    "# when ready for release, create a release branch\n",
    "# !git checkout -b release/v1.0 develop\n",
    "\n",
    "# merge the release into main and develop\n",
    "# !git checkout main\n",
    "# !git merge release/v1.0\n",
    "# !git checkout develop\n",
    "# !git merge release/v1.0"
   ]
  },
  {
   "cell_type": "code",
   "execution_count": 23,
   "id": "0d3c90ce",
   "metadata": {},
   "outputs": [
    {
     "name": "stdout",
     "output_type": "stream",
     "text": [
      "Your branch is behind 'origin/main' by 5 commits, and can be fast-forwarded.\n",
      "  (use \"git pull\" to update your local branch)\n"
     ]
    },
    {
     "name": "stderr",
     "output_type": "stream",
     "text": [
      "Switched to branch 'main'\n"
     ]
    }
   ],
   "source": [
    "## 3. Forking workflow, for open source contributions (best when contributing to someone else's project)\n",
    "# go to the original repo on github and click Fork\n",
    "# clone your fork locally\n",
    "\n",
    "# !git clone https://github.com/your-username/forked-repo.git\n",
    "# !cd forked-repo\n",
    "\n",
    "# create a new branch for changes\n",
    "# !git checkout -b my-fix\n",
    "\n",
    "# make changes, commit, and push\n",
    "# !git add .\n",
    "# !git commit -m \"Fixed issue #123\"\n",
    "# !git push origin my-fix\n",
    "\n",
    "# submit a pull request to the original repo\n",
    "# New Pull Request >>> compare my-fix branch with the original main branch >>> submit for review"
   ]
  }
 ],
 "metadata": {
  "kernelspec": {
   "display_name": "Python 3 (ipykernel)",
   "language": "python",
   "name": "python3"
  },
  "language_info": {
   "codemirror_mode": {
    "name": "ipython",
    "version": 3
   },
   "file_extension": ".py",
   "mimetype": "text/x-python",
   "name": "python",
   "nbconvert_exporter": "python",
   "pygments_lexer": "ipython3",
   "version": "3.10.9"
  }
 },
 "nbformat": 4,
 "nbformat_minor": 5
}

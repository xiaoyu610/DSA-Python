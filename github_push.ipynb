{
 "cells": [
  {
   "cell_type": "code",
   "execution_count": null,
   "id": "3c8b6607",
   "metadata": {},
   "outputs": [],
   "source": [
    "# go to terminal #\n",
    "# pwd\n",
    "# cd C:/Users/xiaoyu/Desktop/AIML/DSA-Python-practice\n",
    "\n",
    "# 1. Initialize a git repository\n",
    "# git init # This creates a hidden .git folder inside your working directory.\n",
    "\n",
    "# 2. connect to a github repository URL\n",
    "# copy e.g., https://github.com/xiaoyu610/DSA-and-Python-practice\n",
    "# git remote add origin https://github.com/xiaoyu610/DSA-and-Python-practice\n",
    "    \n",
    "# 3. add and commit files\n",
    "# git add . # Stage all files in the directory\n",
    "# git commit -m \"First commit\"  # Commit the files with a message\n",
    "\n",
    "# 4. push your code to github\n",
    "# git branch -M Main  # Rename the default branch to \"main\"\n",
    "# git push -u origin Main  # Upload files to GitHub\n",
    "# If prompted, enter your GitHub username and password (or use a GitHub token if 2FA is enabled)."
   ]
  }
 ],
 "metadata": {
  "kernelspec": {
   "display_name": "Python 3 (ipykernel)",
   "language": "python",
   "name": "python3"
  },
  "language_info": {
   "codemirror_mode": {
    "name": "ipython",
    "version": 3
   },
   "file_extension": ".py",
   "mimetype": "text/x-python",
   "name": "python",
   "nbconvert_exporter": "python",
   "pygments_lexer": "ipython3",
   "version": "3.10.9"
  }
 },
 "nbformat": 4,
 "nbformat_minor": 5
}
